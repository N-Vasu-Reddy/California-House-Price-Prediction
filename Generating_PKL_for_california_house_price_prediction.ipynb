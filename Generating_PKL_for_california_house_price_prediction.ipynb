{
  "nbformat": 4,
  "nbformat_minor": 0,
  "metadata": {
    "colab": {
      "provenance": [],
      "authorship_tag": "ABX9TyMcmJIcXuIwetEGEaDr9k5Y",
      "include_colab_link": true
    },
    "kernelspec": {
      "name": "python3",
      "display_name": "Python 3"
    },
    "language_info": {
      "name": "python"
    }
  },
  "cells": [
    {
      "cell_type": "markdown",
      "metadata": {
        "id": "view-in-github",
        "colab_type": "text"
      },
      "source": [
        "<a href=\"https://colab.research.google.com/github/N-Vasu-Reddy/California-House-Price-Prediction/blob/main/Generating_PKL_for_california_house_price_prediction.ipynb\" target=\"_parent\"><img src=\"https://colab.research.google.com/assets/colab-badge.svg\" alt=\"Open In Colab\"/></a>"
      ]
    },
    {
      "cell_type": "markdown",
      "source": [
        "## Generating .pkl(Pickel files)"
      ],
      "metadata": {
        "id": "_FenfNkDNXQ5"
      }
    },
    {
      "cell_type": "markdown",
      "source": [
        "The `.pkl` files are Pickle files used in Python to serialize and save Python objects to disk, so they can be reloaded later without retraining or recalculating.\n",
        "\n",
        "\n"
      ],
      "metadata": {
        "id": "T9X-Z3DQNpXh"
      }
    },
    {
      "cell_type": "markdown",
      "source": [
        "###Why Use .pkl Files?\n",
        "\n",
        "* Reuse models without retraining\n",
        "\n",
        "* Share models with others\n",
        "\n",
        "* Deploy ML models in web apps (like with Flask)"
      ],
      "metadata": {
        "id": "d9AWDu8VOBxA"
      }
    },
    {
      "cell_type": "markdown",
      "source": [
        "### Joblib\n",
        "**Joblib** is built on top of pickle but is specifically designed for objects with large NumPy arrays, which are common in scientific computing and machine learning."
      ],
      "metadata": {
        "id": "TpNkpGTWSa1g"
      }
    },
    {
      "cell_type": "code",
      "source": [
        "import numpy as np\n",
        "import pandas as pd\n",
        "from sklearn.datasets import fetch_california_housing\n",
        "from sklearn.preprocessing import StandardScaler\n",
        "from sklearn.linear_model import Ridge\n",
        "from sklearn.model_selection import train_test_split\n",
        "import joblib\n",
        "\n",
        "housing_data = fetch_california_housing()\n",
        "housing_df = pd.DataFrame(data=housing_data.data, columns=housing_data.feature_names)\n",
        "housing_df['target'] = housing_data.target\n",
        "\n",
        "scaler = StandardScaler()\n",
        "X = housing_df.drop('target', axis=1)\n",
        "y = housing_df['target']\n",
        "X_scaled = scaler.fit_transform(X)\n",
        "\n",
        "X_train, X_test, y_train, y_test = train_test_split(X_scaled, y, test_size=0.2, random_state=42)\n",
        "\n",
        "model = Ridge(alpha=0.1)\n",
        "model.fit(X_train, y_train)\n",
        "\n",
        "joblib.dump(model, 'ridge_model.pkl') #Saves the model\n",
        "joblib.dump(scaler, 'scaler.pkl') #Saves the Standard Scalar function\n"
      ],
      "metadata": {
        "colab": {
          "base_uri": "https://localhost:8080/"
        },
        "id": "VGdLNfsa3Xy7",
        "outputId": "21f608e3-e330-4390-b2e7-7eeec776ba12"
      },
      "execution_count": null,
      "outputs": [
        {
          "output_type": "execute_result",
          "data": {
            "text/plain": [
              "['scaler.pkl']"
            ]
          },
          "metadata": {},
          "execution_count": 1
        }
      ]
    }
  ]
}